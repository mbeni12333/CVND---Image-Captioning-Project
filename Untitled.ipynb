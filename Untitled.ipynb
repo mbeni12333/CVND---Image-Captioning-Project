{
 "cells": [
  {
   "cell_type": "code",
   "execution_count": 2,
   "metadata": {},
   "outputs": [],
   "source": [
    "import torch\n",
    "import numpy as np\n",
    "import torch.nn as nn"
   ]
  },
  {
   "cell_type": "code",
   "execution_count": 3,
   "metadata": {},
   "outputs": [],
   "source": [
    "class DecoderRNN(nn.Module):\n",
    "    def __init__(self, embed_size, hidden_size, vocab_size, num_layers=1, drop_prob=0.2):\n",
    "        \n",
    "        \n",
    "        # layer to embed the tokenized words into vectors\n",
    "        self.embedding_layer = nn.Embedding(vocab_size, embed_size)\n",
    "        \n",
    "        # lstm model\n",
    "        self.lstm = nn.LSTM(input_size=embed_size,\n",
    "                            hidden_size=hidden_size,\n",
    "                            num_layers=numlayers,\n",
    "                            dropout=drop_prob,\n",
    "                            batch_first=True)\n",
    "        \n",
    "        \n",
    "        # dropout layer to avoid overfitting\n",
    "        self.dropout = nn.Dropout(drop_prob)\n",
    "        \n",
    "        # Linear layer \n",
    "        self.fc = nn.linear(hidden_size, vocab_size)\n",
    "        \n",
    "        \n",
    "        # initialize weights\n",
    "        self.init_weights()\n",
    "     \n",
    "    def init_weights(self):\n",
    "        \n",
    "        # initilize embeding layer\n",
    "        nn.init.xavier_uniform_(self.embedding_layer.weight)\n",
    "        \n",
    "        # initialize lstm weights\n",
    "        \n",
    "#         for param in self.lstm.parameters():\n",
    "#             nn.init.xavier_uniform_(param)\n",
    "        \n",
    "        # initialize weights of the fc layer\n",
    "        nn.init.xavier_uniform_(self.fc.weight)\n",
    "        \n",
    "        \n",
    "    def forward(self, features, captions):\n",
    "        \"\"\"\n",
    "        Forward pass\n",
    "        \"\"\"\n",
    "        captions = captions[:, :-1]\n",
    "        # calculate the embedding\n",
    "        captions = self.embedding_layer(captions)\n",
    "        # inputs\n",
    "        inputs = torch.cat(features.unsqueeze(1), captions)\n",
    "        # outputs\n",
    "        outputs, _ = self.lstm(inputs)\n",
    "        \n",
    "        return outputs\n",
    "\n",
    "    def sample(self, inputs, states=None, max_len=20):\n",
    "        \" accepts pre-processed image tensor (inputs) and returns predicted sentence (list of tensor ids of length max_len) \"\n",
    "        pass\n",
    "    "
   ]
  },
  {
   "cell_type": "code",
   "execution_count": null,
   "metadata": {},
   "outputs": [],
   "source": []
  }
 ],
 "metadata": {
  "kernelspec": {
   "display_name": "Python 3",
   "language": "python",
   "name": "python3"
  },
  "language_info": {
   "codemirror_mode": {
    "name": "ipython",
    "version": 3
   },
   "file_extension": ".py",
   "mimetype": "text/x-python",
   "name": "python",
   "nbconvert_exporter": "python",
   "pygments_lexer": "ipython3",
   "version": "3.6.8"
  }
 },
 "nbformat": 4,
 "nbformat_minor": 2
}
